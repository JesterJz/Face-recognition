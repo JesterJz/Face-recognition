{
 "cells": [
  {
   "cell_type": "code",
   "execution_count": 1,
   "metadata": {},
   "outputs": [],
   "source": [
    "import cv2\n",
    "import numpy as np\n",
    "from tensorflow.keras import models"
   ]
  },
  {
   "cell_type": "code",
   "execution_count": 2,
   "metadata": {},
   "outputs": [],
   "source": [
    "model = models.load_model('./model/model_colab_6.h5')"
   ]
  },
  {
   "cell_type": "code",
   "execution_count": 3,
   "metadata": {},
   "outputs": [],
   "source": [
    "face_detector = cv2.CascadeClassifier('./haarcascades/haarcascade_frontalface_alt.xml')\n",
    "# lst_resutl = {'dimaria':[1,0,0,0], 'neymar':[0,1,0,0], 'phuong_ly':[0,0,1,0], 'ronaldo':[0,0,0,1]}\n",
    "lst_resutl = ['dimaria','neymar','phuong_ly','ronaldo']\n",
    "img_path = './dataset/test_data/b55b23da81d1224882d623d735df647999406467.jpeg'"
   ]
  },
  {
   "cell_type": "code",
   "execution_count": 5,
   "metadata": {},
   "outputs": [],
   "source": [
    "while True:\n",
    "    \n",
    "    img = cv2.imread(img_path, 1)\n",
    "    img_gray = cv2.cvtColor(img, cv2.COLOR_RGB2GRAY)\n",
    "\n",
    "    faces = face_detector.detectMultiScale(img_gray, 1.2, 2)\n",
    "    for (x, y, w, h) in faces:\n",
    "        roi = cv2.resize(img[y: y + h, x: x + w], (64, 64))\n",
    "        predictions = model.predict(roi.reshape((-1, 64, 64, 3)))\n",
    "        result = np.argmax(predictions)\n",
    "        # print(result)\n",
    "        best_class_indices = np.argmax(predictions,axis=1)\n",
    "        best_class_probabilities = predictions[np.arange(len(best_class_indices)), best_class_indices]\n",
    "\n",
    "        cv2.rectangle(img, (x, y), (x+w, y+h), (0, 255, 0), 1)\n",
    "        cv2.putText(img, lst_resutl[result], (x+15, y-15), cv2.FONT_HERSHEY_SIMPLEX, 0.5, (255, 255, 255), 2)\n",
    "        cv2.putText(img, str(best_class_probabilities[0]), (x+15, y-40), cv2.FONT_HERSHEY_SIMPLEX, 0.5, (0, 255, 0), 2)\n",
    "\n",
    "    cv2.imshow('FRAME', img)\n",
    "\n",
    "    if cv2.waitKey(1) & 0xFF == ord('q'):\n",
    "        break\n",
    "\n",
    "cv2.destroyAllWindows()"
   ]
  }
 ],
 "metadata": {
  "interpreter": {
   "hash": "9cdf929322205b9e43d98d7c4cf91987317ab1d4d13086b9febd1487a1a96261"
  },
  "kernelspec": {
   "display_name": "Python 3.9.7 64-bit ('base': conda)",
   "language": "python",
   "name": "python3"
  },
  "language_info": {
   "codemirror_mode": {
    "name": "ipython",
    "version": 3
   },
   "file_extension": ".py",
   "mimetype": "text/x-python",
   "name": "python",
   "nbconvert_exporter": "python",
   "pygments_lexer": "ipython3",
   "version": "3.9.7"
  },
  "orig_nbformat": 4
 },
 "nbformat": 4,
 "nbformat_minor": 2
}
