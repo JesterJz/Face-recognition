{
 "cells": [
  {
   "cell_type": "code",
   "execution_count": 8,
   "metadata": {},
   "outputs": [],
   "source": [
    "import numpy as np\n",
    "import os\n",
    "from PIL import Image\n",
    "from tensorflow.keras import layers\n",
    "from tensorflow.keras import models"
   ]
  },
  {
   "cell_type": "code",
   "execution_count": 1,
   "metadata": {},
   "outputs": [],
   "source": [
    "DATA = './dataset/train_data/'\n",
    "dict = {'dimaria':[1,0,0,0], 'neymar':[0,1,0,0], 'phuong_ly':[0,0,1,0], 'ronaldo':[0,0,0,1]}"
   ]
  },
  {
   "cell_type": "code",
   "execution_count": 3,
   "metadata": {},
   "outputs": [],
   "source": [
    "def getdata(dir):\n",
    "\n",
    "    train_data = []\n",
    "    dict = []\n",
    "    count = 0\n",
    "    for whatever in os.listdir(dir):\n",
    "\n",
    "        temp = [0]*len(os.listdir(dir))\n",
    "        temp[count] = 1\n",
    "        count += 1\n",
    "        dict.append((whatever, temp))\n",
    "\n",
    "        whatever_path = os.path.join(dir, whatever)\n",
    "        lst_filename_path = []\n",
    "        for filename in os.listdir(whatever_path):\n",
    "            filename_path = os.path.join(whatever_path, filename)\n",
    "            img = np.array(Image.open(filename_path))\n",
    "            lst_filename_path.append((img, temp))\n",
    "\n",
    "        train_data.extend(lst_filename_path)\n",
    "\n",
    "    return train_data, dict"
   ]
  },
  {
   "cell_type": "code",
   "execution_count": null,
   "metadata": {},
   "outputs": [],
   "source": [
    "train_data, dict = getdata(DATA)\n",
    "np.random.shuffle(train_data)\n",
    "\n",
    "xtrain = np.array([x[0] for i, x in enumerate(train_data)])\n",
    "ytrain = np.array([x[1] for i, x in enumerate(train_data)])\n",
    "# print(dict)"
   ]
  },
  {
   "cell_type": "code",
   "execution_count": 11,
   "metadata": {},
   "outputs": [
    {
     "name": "stdout",
     "output_type": "stream",
     "text": [
      "Model: \"sequential\"\n",
      "_________________________________________________________________\n",
      " Layer (type)                Output Shape              Param #   \n",
      "=================================================================\n",
      " conv2d (Conv2D)             (None, 62, 62, 32)        896       \n",
      "                                                                 \n",
      " max_pooling2d (MaxPooling2D  (None, 31, 31, 32)       0         \n",
      " )                                                               \n",
      "                                                                 \n",
      " dropout (Dropout)           (None, 31, 31, 32)        0         \n",
      "                                                                 \n",
      " conv2d_1 (Conv2D)           (None, 29, 29, 64)        18496     \n",
      "                                                                 \n",
      " max_pooling2d_1 (MaxPooling  (None, 14, 14, 64)       0         \n",
      " 2D)                                                             \n",
      "                                                                 \n",
      " dropout_1 (Dropout)         (None, 14, 14, 64)        0         \n",
      "                                                                 \n",
      " conv2d_2 (Conv2D)           (None, 12, 12, 128)       73856     \n",
      "                                                                 \n",
      " max_pooling2d_2 (MaxPooling  (None, 6, 6, 128)        0         \n",
      " 2D)                                                             \n",
      "                                                                 \n",
      " dropout_2 (Dropout)         (None, 6, 6, 128)         0         \n",
      "                                                                 \n",
      " flatten (Flatten)           (None, 4608)              0         \n",
      "                                                                 \n",
      " dense (Dense)               (None, 1000)              4609000   \n",
      "                                                                 \n",
      " dense_1 (Dense)             (None, 256)               256256    \n",
      "                                                                 \n",
      " dense_2 (Dense)             (None, 4)                 1028      \n",
      "                                                                 \n",
      "=================================================================\n",
      "Total params: 4,959,532\n",
      "Trainable params: 4,959,532\n",
      "Non-trainable params: 0\n",
      "_________________________________________________________________\n"
     ]
    }
   ],
   "source": [
    "model_train = models.Sequential([\n",
    "    layers.Conv2D(32, (3, 3), input_shape=(64, 64, 3), activation='relu'),\n",
    "    layers.MaxPool2D((2, 2)),\n",
    "    layers.Dropout(0.15),\n",
    "\n",
    "    layers.Conv2D(64, (3, 3), activation='relu'),\n",
    "    layers.MaxPool2D((2, 2)),\n",
    "    layers.Dropout(0.18),\n",
    "\n",
    "    layers.Conv2D(128, (3, 3), activation='relu'),\n",
    "    layers.MaxPool2D((2, 2)),\n",
    "    layers.Dropout(0.2),\n",
    "\n",
    "    layers.Flatten(),\n",
    "    layers.Dense(1000, activation='relu'),\n",
    "    layers.Dense(256, activation='relu'),\n",
    "    layers.Dense(4, activation='softmax')\n",
    "])\n",
    "model_train.summary()"
   ]
  },
  {
   "cell_type": "code",
   "execution_count": null,
   "metadata": {},
   "outputs": [],
   "source": [
    "model_train.compile(optimizer='adam',\n",
    "                    loss='categorical_crossentropy',\n",
    "                    metrics=['accuracy'])\n",
    "#model_train.summary()\n",
    "\n",
    "model_train.fit(xtrain, ytrain, epochs=10)\n",
    "\n",
    "model_train.save('./model/model_test.h5')"
   ]
  },
  {
   "cell_type": "code",
   "execution_count": null,
   "metadata": {},
   "outputs": [
    {
     "name": "stdout",
     "output_type": "stream",
     "text": [
      "(array([[[ 14,  13,  18],\n",
      "        [ 13,  13,  15],\n",
      "        [ 16,  12,  13],\n",
      "        ...,\n",
      "        [ 16,  11,  15],\n",
      "        [ 18,  16,  17],\n",
      "        [ 14,  14,  12]],\n",
      "\n",
      "       [[ 57,  58,  62],\n",
      "        [ 54,  54,  56],\n",
      "        [ 80,  78,  79],\n",
      "        ...,\n",
      "        [ 19,  14,  18],\n",
      "        [ 14,  12,  13],\n",
      "        [ 15,  15,  13]],\n",
      "\n",
      "       [[ 53,  57,  60],\n",
      "        [ 59,  60,  62],\n",
      "        [ 84,  82,  83],\n",
      "        ...,\n",
      "        [ 30,  28,  31],\n",
      "        [ 34,  34,  34],\n",
      "        [ 35,  37,  34]],\n",
      "\n",
      "       ...,\n",
      "\n",
      "       [[ 73,  59,  50],\n",
      "        [ 72,  55,  45],\n",
      "        [ 72,  54,  42],\n",
      "        ...,\n",
      "        [210, 164, 148],\n",
      "        [201, 164, 146],\n",
      "        [201, 166, 147]],\n",
      "\n",
      "       [[ 84,  75,  68],\n",
      "        [ 75,  62,  54],\n",
      "        [ 71,  54,  46],\n",
      "        ...,\n",
      "        [196, 165, 145],\n",
      "        [195, 173, 152],\n",
      "        [203, 185, 165]],\n",
      "\n",
      "       [[101,  94,  88],\n",
      "        [ 93,  84,  77],\n",
      "        [ 82,  67,  60],\n",
      "        ...,\n",
      "        [164, 142, 121],\n",
      "        [189, 174, 153],\n",
      "        [234, 226, 205]]], dtype=uint8), [1, 0, 0, 0])\n"
     ]
    }
   ],
   "source": [
    "import numpy as np\n",
    "from PIL import Image\n",
    "lst = []\n",
    "label_image = {\n",
    "'dimaria':[1,0,0,0]\n",
    ", 'neymar':[0,1,0,0]\n",
    ", 'phuong_ly':[0,0,1,0]\n",
    ", 'ronaldo':[0,0,0,1]}\n",
    "\n",
    "img = np.array(Image.open('./dataset/train_data/dimaria/peo_0.jpg'))\n",
    "lst.append((img, dict_image['dimaria']))\n",
    "print(lst[0])\n"
   ]
  }
 ],
 "metadata": {
  "interpreter": {
   "hash": "9cdf929322205b9e43d98d7c4cf91987317ab1d4d13086b9febd1487a1a96261"
  },
  "kernelspec": {
   "display_name": "Python 3.9.7 64-bit ('base': conda)",
   "language": "python",
   "name": "python3"
  },
  "language_info": {
   "codemirror_mode": {
    "name": "ipython",
    "version": 3
   },
   "file_extension": ".py",
   "mimetype": "text/x-python",
   "name": "python",
   "nbconvert_exporter": "python",
   "pygments_lexer": "ipython3",
   "version": "3.9.7"
  },
  "orig_nbformat": 4
 },
 "nbformat": 4,
 "nbformat_minor": 2
}
