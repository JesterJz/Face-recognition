{
 "cells": [
  {
   "cell_type": "code",
   "execution_count": null,
   "metadata": {},
   "outputs": [],
   "source": [
    "import cv2\n",
    "import numpy as np\n",
    "from tensorflow.keras import models"
   ]
  },
  {
   "cell_type": "code",
   "execution_count": null,
   "metadata": {},
   "outputs": [],
   "source": [
    "model = models.load_model('./model/model_colab_6.h5')"
   ]
  },
  {
   "cell_type": "code",
   "execution_count": null,
   "metadata": {},
   "outputs": [],
   "source": [
    "face_detector = cv2.CascadeClassifier(\n",
    "    './haarcascades/haarcascade_frontalface_alt.xml')\n",
    "# lst_resutl = {'dimaria':[1,0,0,0], 'neymar':[0,1,0,0], 'phuong_ly':[0,0,1,0], 'ronaldo':[0,0,0,1]}\n",
    "lst_resutl = ['dimaria','neymar','phuong_ly','ronaldo']\n",
    "video = cv2.VideoCapture('./dataset/test_data/1.mp4')"
   ]
  },
  {
   "cell_type": "code",
   "execution_count": null,
   "metadata": {},
   "outputs": [],
   "source": [
    "while True:\n",
    "    OK, frame = video.read()\n",
    "    faces = face_detector.detectMultiScale(frame, 1.3, 4)\n",
    "    for (x, y, w, h) in faces:\n",
    "        roi = cv2.resize(frame[y: y + h, x: x + w], (64, 64))\n",
    "        predictions = model.predict(roi.reshape((-1, 64, 64, 3)))\n",
    "        result = np.argmax(predictions)\n",
    "        # print(result)\n",
    "        best_class_indices = np.argmax(predictions,axis=1)\n",
    "        best_class_probabilities = predictions[\n",
    "            np.arange(len(best_class_indices)), best_class_indices]\n",
    "\n",
    "        cv2.rectangle(frame, (x, y), (x+w, y+h), (0, 255, 0), 1)\n",
    "        cv2.putText(frame, lst_resutl[result], (x+15, y-15),\n",
    "                cv2.FONT_ITALIC, 0.8, (255, 255, 255), 2)\n",
    "        cv2.putText(frame, str(best_class_probabilities[0]), (x+15, y-40),\n",
    "                cv2.FONT_HERSHEY_SIMPLEX, 0.5, (0, 255, 0), 2)\n",
    "\n",
    "    cv2.imshow('FRAME', frame)\n",
    "\n",
    "    if cv2.waitKey(1) & 0xFF == ord('q'):\n",
    "        break\n",
    "# cam.release()\n",
    "cv2.destroyAllWindows()"
   ]
  }
 ],
 "metadata": {
  "language_info": {
   "name": "python"
  },
  "orig_nbformat": 4
 },
 "nbformat": 4,
 "nbformat_minor": 2
}
